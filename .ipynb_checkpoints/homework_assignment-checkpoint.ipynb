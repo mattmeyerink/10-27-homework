{
 "cells": [
  {
   "cell_type": "markdown",
   "metadata": {},
   "source": [
    "# Exercises"
   ]
  },
  {
   "cell_type": "markdown",
   "metadata": {},
   "source": [
    "1) Build a Shopping Cart\n",
    "Should have the following capabilities:\n",
    "\n",
    "1) Takes in input\n",
    "2) Stores user input into a list\n",
    "3) User can add or delete items\n",
    "4) User can see current shopping list\n",
    "5) Loops until user 'quits'\n",
    "6) Upon quiting the program, print out all items in the user's list"
   ]
  },
  {
   "cell_type": "code",
   "execution_count": 4,
   "metadata": {
    "scrolled": true
   },
   "outputs": [
    {
     "name": "stdout",
     "output_type": "stream",
     "text": [
      "Welcome to the Shopping Cart!\n",
      "Please enter your first item to add to the cart: Apples\n",
      "Your current cart includes ['Apples']\n",
      "What would you like to do? (Quit/Add/Delete) Add\n",
      "What item would you like to add? Bannanas\n",
      "Your current cart includes ['Apples', 'Bannanas']\n",
      "What would you like to do? (Quit/Add/Delete) Add\n",
      "What item would you like to add? Pears\n",
      "Your current cart includes ['Apples', 'Bannanas', 'Pears']\n",
      "What would you like to do? (Quit/Add/Delete) Delete\n",
      "What would you like to remove? Pears\n",
      "Your current cart includes ['Apples', 'Bannanas']\n",
      "What would you like to do? (Quit/Add/Delete) Delete Apples\n",
      "That is not a valid operation \n",
      "Your current cart includes ['Apples', 'Bannanas']\n",
      "What would you like to do? (Quit/Add/Delete) Delete\n",
      "What would you like to remove? Apples\n",
      "Your current cart includes ['Bannanas']\n",
      "What would you like to do? (Quit/Add/Delete) Add\n",
      "What item would you like to add? Mangos\n",
      "Your current cart includes ['Bannanas', 'Mangos']\n",
      "What would you like to do? (Quit/Add/Delete) Quit\n",
      "['Bannanas', 'Mangos']\n"
     ]
    }
   ],
   "source": [
    "def shopping_cart():\n",
    "    print(\"Welcome to the Shopping Cart!\")\n",
    "    item = input(\"Please enter your first item to add to the cart: \")\n",
    "    \n",
    "    cart = [item]\n",
    "    print(\"Your current cart includes \" + str(cart))\n",
    "    cart_open = True\n",
    "    \n",
    "    while True:\n",
    "        operation = input(\"What would you like to do? (Quit/Add/Delete) \")\n",
    "        \n",
    "        if operation == \"Quit\":\n",
    "            print(\"Your current cart includes \" + str(cart))\n",
    "            return\n",
    "        \n",
    "        elif operation == \"Add\":\n",
    "            item = input(\"What item would you like to add? \")\n",
    "            cart.append(item)\n",
    "        \n",
    "        elif operation == \"Delete\":\n",
    "            item = input(\"What would you like to remove? \")\n",
    "            cart.remove(item)\n",
    "            \n",
    "        else:\n",
    "            print(\"That is not a valid operation \")\n",
    "        \n",
    "        print(\"Your current cart includes \" + str(cart))\n",
    "\n",
    "shopping_cart()"
   ]
  },
  {
   "cell_type": "markdown",
   "metadata": {},
   "source": [
    "\n",
    "2) Create a Module in Visual Studio Code and Import It\n",
    "\n",
    "Module should have the following capabilities:\n",
    "\n",
    "1) Has a function to calculate the square footage of a room\n",
    "2) Has a function to calculate the circumference of a circle\n",
    "\n",
    "Program in Jupyter Notebook should take in user input and use imported functions to calculate a circle's circumference or a houses square footage"
   ]
  },
  {
   "cell_type": "markdown",
   "metadata": {},
   "source": [
    "**Note: When using functions in Python, arguments are passed in by reference, NOT value."
   ]
  },
  {
   "cell_type": "code",
   "execution_count": 9,
   "metadata": {},
   "outputs": [
    {
     "name": "stdout",
     "output_type": "stream",
     "text": [
      "Would you like to calculate square footage or circumference? (sq/c) c\n",
      "Radius: 43\n"
     ]
    },
    {
     "data": {
      "text/plain": [
       "270.1769682087222"
      ]
     },
     "execution_count": 9,
     "metadata": {},
     "output_type": "execute_result"
    }
   ],
   "source": [
    "import geometry\n",
    "\n",
    "def calculator():\n",
    "    operation = input(\"Would you like to calculate square footage or circumference? (sq/c) \")\n",
    "    \n",
    "    if operation == \"sq\":\n",
    "        length = int(input(\"Length: \"))\n",
    "        width = int(input(\"Width: \"))\n",
    "        \n",
    "        return geometry.square_footage(length, width)\n",
    "    \n",
    "    elif operation == \"c\":\n",
    "        radius = int(input(\"Radius: \"))\n",
    "        \n",
    "        return geometry.circumference(radius)\n",
    "\n",
    "calculator()"
   ]
  },
  {
   "cell_type": "code",
   "execution_count": null,
   "metadata": {},
   "outputs": [],
   "source": []
  }
 ],
 "metadata": {
  "kernelspec": {
   "display_name": "Python 3",
   "language": "python",
   "name": "python3"
  },
  "language_info": {
   "codemirror_mode": {
    "name": "ipython",
    "version": 3
   },
   "file_extension": ".py",
   "mimetype": "text/x-python",
   "name": "python",
   "nbconvert_exporter": "python",
   "pygments_lexer": "ipython3",
   "version": "3.8.5"
  }
 },
 "nbformat": 4,
 "nbformat_minor": 4
}
